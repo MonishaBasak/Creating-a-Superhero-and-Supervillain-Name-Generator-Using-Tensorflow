{
  "cells": [
    {
      "cell_type": "markdown",
      "metadata": {
        "id": "view-in-github",
        "colab_type": "text"
      },
      "source": [
        "<a href=\"https://colab.research.google.com/github/MonishaBasak/Creating-a-Superhero-and-Supervillain-Name-Generator-Using-Tensorflow/blob/main/Superhero_Name_Generator.ipynb\" target=\"_parent\"><img src=\"https://colab.research.google.com/assets/colab-badge.svg\" alt=\"Open In Colab\"/></a>"
      ]
    },
    {
      "cell_type": "markdown",
      "metadata": {
        "id": "21XXWP7Fpt2L"
      },
      "source": [
        "# Superhero (and Supervillain) Name Generator\n",
        "\n",
        "---\n",
        "\n",
        "[Superhero Names Dataset](https://github.com/am1tyadav/superhero)"
      ]
    },
    {
      "cell_type": "markdown",
      "metadata": {
        "id": "H6P0NU5Cpt2R"
      },
      "source": [
        "## Task 2\n",
        "\n",
        "1. Import the data\n",
        "2. Create a tokenizer\n",
        "3. Char to index and Index to char dictionaries"
      ]
    },
    {
      "cell_type": "code",
      "execution_count": null,
      "metadata": {
        "id": "srULhalZpt2M",
        "colab": {
          "base_uri": "https://localhost:8080/"
        },
        "outputId": "22d38c85-660a-4d98-a0c6-6ca7fc57b14b"
      },
      "outputs": [
        {
          "output_type": "stream",
          "name": "stdout",
          "text": [
            "fatal: destination path 'superhero' already exists and is not an empty directory.\n"
          ]
        }
      ],
      "source": [
        "!git clone https://github.com/am1tyadav/superhero"
      ]
    },
    {
      "cell_type": "code",
      "execution_count": null,
      "metadata": {
        "id": "uq4CLmsLpt2P"
      },
      "outputs": [],
      "source": [
        "with open('superhero/superheroes.txt','r') as f:\n",
        "  data= f.read()\n",
        "\n",
        "  data[:100]"
      ]
    },
    {
      "cell_type": "code",
      "execution_count": null,
      "metadata": {
        "id": "JqhtLuAHpt2R",
        "colab": {
          "base_uri": "https://localhost:8080/"
        },
        "outputId": "e31c1548-0fe1-4ef8-cc74-bfaa263e3f86"
      },
      "outputs": [
        {
          "output_type": "stream",
          "name": "stdout",
          "text": [
            "2.8.2\n"
          ]
        }
      ],
      "source": [
        "import tensorflow as tf\n",
        "print(tf.__version__)"
      ]
    },
    {
      "cell_type": "code",
      "execution_count": null,
      "metadata": {
        "id": "95Lo1Yqzpt2T"
      },
      "outputs": [],
      "source": [
        "tokenizer = tf.keras.preprocessing.text.Tokenizer(\n",
        "    filters='!\"#$%&()*+,-./:;<=>?@[\\\\]^_`{|}~',\n",
        "    split='\\n',\n",
        ")"
      ]
    },
    {
      "cell_type": "code",
      "execution_count": null,
      "metadata": {
        "id": "qYfC4sj2pt2V"
      },
      "outputs": [],
      "source": [
        "tokenizer.fit_on_texts(data)"
      ]
    },
    {
      "cell_type": "code",
      "execution_count": null,
      "metadata": {
        "id": "EO4-dPM6pt2X",
        "colab": {
          "base_uri": "https://localhost:8080/"
        },
        "outputId": "e99c0546-78ff-4d6c-dbe8-07a36827f548"
      },
      "outputs": [
        {
          "output_type": "stream",
          "name": "stdout",
          "text": [
            "{1: '\\t', 2: 'a', 3: 'e', 4: 'r', 5: 'o', 6: 'n', 7: 'i', 8: ' ', 9: 't', 10: 's', 11: 'l', 12: 'm', 13: 'h', 14: 'd', 15: 'c', 16: 'u', 17: 'g', 18: 'k', 19: 'b', 20: 'p', 21: 'y', 22: 'w', 23: 'f', 24: 'v', 25: 'j', 26: 'z', 27: 'x', 28: 'q'}\n"
          ]
        }
      ],
      "source": [
        "char_to_index = tokenizer.word_index\n",
        "index_to_char = dict((v,k)for k, v in char_to_index.items())\n",
        "\n",
        "print(index_to_char)"
      ]
    },
    {
      "cell_type": "markdown",
      "metadata": {
        "id": "SMwtIw_Bpt2Z"
      },
      "source": [
        "## Task 3\n",
        "\n",
        "1. Converting between names and sequences"
      ]
    },
    {
      "cell_type": "code",
      "execution_count": null,
      "metadata": {
        "id": "N7iQLIXzpt2a",
        "colab": {
          "base_uri": "https://localhost:8080/"
        },
        "outputId": "21da6f98-2eda-475e-ae8c-0d07ec72e547"
      },
      "outputs": [
        {
          "output_type": "execute_result",
          "data": {
            "text/plain": [
              "['jumpa\\t',\n",
              " 'doctor fate\\t',\n",
              " 'starlight\\t',\n",
              " 'isildur\\t',\n",
              " 'lasher\\t',\n",
              " 'varvara\\t',\n",
              " 'the target\\t',\n",
              " 'axel\\t',\n",
              " 'battra\\t',\n",
              " 'changeling\\t']"
            ]
          },
          "metadata": {},
          "execution_count": 12
        }
      ],
      "source": [
        "names = data.splitlines()\n",
        "names[:10]"
      ]
    },
    {
      "cell_type": "code",
      "execution_count": null,
      "metadata": {
        "id": "n_-TTfqipt2c",
        "colab": {
          "base_uri": "https://localhost:8080/"
        },
        "outputId": "bc206ff4-1687-400c-ec06-dd55c52b3121"
      },
      "outputs": [
        {
          "output_type": "execute_result",
          "data": {
            "text/plain": [
              "[[25], [16], [12], [20], [2], [1]]"
            ]
          },
          "metadata": {},
          "execution_count": 13
        }
      ],
      "source": [
        "tokenizer.texts_to_sequences(names[0])"
      ]
    },
    {
      "cell_type": "code",
      "execution_count": null,
      "metadata": {
        "id": "P6IsKH1Upt2e"
      },
      "outputs": [],
      "source": [
        "def name_to_seq(name):\n",
        "  return [tokenizer.texts_to_sequences(c)[0][0] for c in name]"
      ]
    },
    {
      "cell_type": "code",
      "execution_count": null,
      "metadata": {
        "id": "TuLUiMP3pt2g",
        "colab": {
          "base_uri": "https://localhost:8080/"
        },
        "outputId": "fb3b1909-fa7c-46d5-8464-a3399a914ddd"
      },
      "outputs": [
        {
          "output_type": "execute_result",
          "data": {
            "text/plain": [
              "[14, 5, 15, 9, 5, 4, 8, 23, 2, 9, 3, 1]"
            ]
          },
          "metadata": {},
          "execution_count": 16
        }
      ],
      "source": [
        "name_to_seq(names[1])"
      ]
    },
    {
      "cell_type": "code",
      "execution_count": null,
      "metadata": {
        "id": "yFUYhimKpt2h"
      },
      "outputs": [],
      "source": [
        "def seq_to_name(seq):\n",
        "  return ''.join([index_to_char[i] for i in seq if i !=0 ])"
      ]
    },
    {
      "cell_type": "code",
      "execution_count": null,
      "metadata": {
        "id": "ROhCqmhLpt2k",
        "colab": {
          "base_uri": "https://localhost:8080/",
          "height": 35
        },
        "outputId": "f5cc3f9c-0d39-4433-ce46-5a93c0f20241"
      },
      "outputs": [
        {
          "output_type": "execute_result",
          "data": {
            "text/plain": [
              "'doctor fate\\t'"
            ],
            "application/vnd.google.colaboratory.intrinsic+json": {
              "type": "string"
            }
          },
          "metadata": {},
          "execution_count": 18
        }
      ],
      "source": [
        "seq_to_name(name_to_seq(names[1]))"
      ]
    },
    {
      "cell_type": "markdown",
      "metadata": {
        "id": "uCbAzsNjpt2m"
      },
      "source": [
        "## Task 4\n",
        "\n",
        "1. Creating sequences\n",
        "2. Padding all sequences"
      ]
    },
    {
      "cell_type": "code",
      "execution_count": null,
      "metadata": {
        "id": "zstNn-0dpt2m"
      },
      "outputs": [],
      "source": [
        "sequences = []\n",
        "\n",
        "for name in names:\n",
        "  seq = name_to_seq(name)\n",
        "  if len(seq) >= 2:\n",
        "    sequences += [seq[:i] for i in range (2, len(seq) + 1)]"
      ]
    },
    {
      "cell_type": "code",
      "execution_count": null,
      "metadata": {
        "id": "BjRTMysvpt2o",
        "colab": {
          "base_uri": "https://localhost:8080/"
        },
        "outputId": "5881a3f4-afc1-4c21-cfce-573ebd6d43a6"
      },
      "outputs": [
        {
          "output_type": "execute_result",
          "data": {
            "text/plain": [
              "[[25, 16],\n",
              " [25, 16, 12],\n",
              " [25, 16, 12, 20],\n",
              " [25, 16, 12, 20, 2],\n",
              " [25, 16, 12, 20, 2, 1],\n",
              " [14, 5],\n",
              " [14, 5, 15],\n",
              " [14, 5, 15, 9],\n",
              " [14, 5, 15, 9, 5],\n",
              " [14, 5, 15, 9, 5, 4],\n",
              " [14, 5, 15, 9, 5, 4, 8],\n",
              " [14, 5, 15, 9, 5, 4, 8, 23],\n",
              " [14, 5, 15, 9, 5, 4, 8, 23, 2],\n",
              " [14, 5, 15, 9, 5, 4, 8, 23, 2, 9],\n",
              " [14, 5, 15, 9, 5, 4, 8, 23, 2, 9, 3]]"
            ]
          },
          "metadata": {},
          "execution_count": 20
        }
      ],
      "source": [
        "sequences[:15]"
      ]
    },
    {
      "cell_type": "code",
      "execution_count": null,
      "metadata": {
        "id": "SR68pu2tpt2q",
        "colab": {
          "base_uri": "https://localhost:8080/"
        },
        "outputId": "dff0126a-1307-45e3-ef76-0d8f6a7a6168"
      },
      "outputs": [
        {
          "output_type": "stream",
          "name": "stdout",
          "text": [
            "33\n"
          ]
        }
      ],
      "source": [
        "max_len = max([len(x) for x in sequences])\n",
        "print(max_len)"
      ]
    },
    {
      "cell_type": "code",
      "execution_count": null,
      "metadata": {
        "id": "h_1BtWO7pt2r",
        "colab": {
          "base_uri": "https://localhost:8080/"
        },
        "outputId": "c540b80d-b5b7-4af2-f96a-c020db20d91b"
      },
      "outputs": [
        {
          "output_type": "stream",
          "name": "stdout",
          "text": [
            "[ 0  0  0  0  0  0  0  0  0  0  0  0  0  0  0  0  0  0  0  0  0  0  0  0\n",
            "  0  0  0  0  0  0  0 25 16]\n"
          ]
        }
      ],
      "source": [
        "padded_sequences= tf.keras.preprocessing.sequence.pad_sequences(sequences, padding='pre', maxlen= max_len)\n",
        "\n",
        "print(padded_sequences[0])"
      ]
    },
    {
      "cell_type": "code",
      "source": [
        "padded= tf.keras.preprocessing.sequence.pad_sequences(sequences, padding='post', maxlen= max_len)\n",
        "\n",
        "print(padded[0])"
      ],
      "metadata": {
        "colab": {
          "base_uri": "https://localhost:8080/"
        },
        "id": "WY0gYOYXx39u",
        "outputId": "7c7d6e31-6221-4109-ca08-a73d704eed3a"
      },
      "execution_count": null,
      "outputs": [
        {
          "output_type": "stream",
          "name": "stdout",
          "text": [
            "[25 16  0  0  0  0  0  0  0  0  0  0  0  0  0  0  0  0  0  0  0  0  0  0\n",
            "  0  0  0  0  0  0  0  0  0]\n"
          ]
        }
      ]
    },
    {
      "cell_type": "code",
      "execution_count": null,
      "metadata": {
        "id": "sPlrLRpSpt2t",
        "colab": {
          "base_uri": "https://localhost:8080/"
        },
        "outputId": "472440f0-67f4-4232-a040-25b28a19797d"
      },
      "outputs": [
        {
          "output_type": "execute_result",
          "data": {
            "text/plain": [
              "(88279, 33)"
            ]
          },
          "metadata": {},
          "execution_count": 27
        }
      ],
      "source": [
        "padded_sequences.shape"
      ]
    },
    {
      "cell_type": "markdown",
      "metadata": {
        "id": "aO7Vhr8MnKsI"
      },
      "source": [
        "## Task 5: Creating Training and Validation Sets\n",
        "\n",
        "1. Creating training and validation sets"
      ]
    },
    {
      "cell_type": "code",
      "execution_count": null,
      "metadata": {
        "id": "BE4BIeSnpt2v",
        "colab": {
          "base_uri": "https://localhost:8080/"
        },
        "outputId": "5cb4c58f-6cc7-48f4-b976-3147c9cadb9c"
      },
      "outputs": [
        {
          "output_type": "stream",
          "name": "stdout",
          "text": [
            "(88279, 32) (88279,)\n"
          ]
        }
      ],
      "source": [
        "x, y= padded_sequences[:, :-1], padded_sequences[:, -1]\n",
        "print(x.shape, y.shape)"
      ]
    },
    {
      "cell_type": "code",
      "execution_count": null,
      "metadata": {
        "id": "WC94OKYRnKsJ",
        "colab": {
          "base_uri": "https://localhost:8080/"
        },
        "outputId": "c5aa9bde-ef51-45d6-c854-e68af7f54c90"
      },
      "outputs": [
        {
          "output_type": "stream",
          "name": "stdout",
          "text": [
            "(66209, 32) (66209,)\n",
            "(22070, 32) (22070,)\n"
          ]
        }
      ],
      "source": [
        "from sklearn.model_selection import train_test_split\n",
        "\n",
        "x_train, x_test, y_train, y_test =train_test_split(x,y)\n",
        "\n",
        "print(x_train.shape, y_train.shape)\n",
        "print(x_test.shape, y_test.shape)"
      ]
    },
    {
      "cell_type": "code",
      "execution_count": null,
      "metadata": {
        "id": "cgqRZtqnpt2x",
        "colab": {
          "base_uri": "https://localhost:8080/"
        },
        "outputId": "a1a68dd8-da57-4860-f29c-4414bed80f19"
      },
      "outputs": [
        {
          "output_type": "stream",
          "name": "stdout",
          "text": [
            "29\n"
          ]
        }
      ],
      "source": [
        "num_chars = len(char_to_index.keys())+1\n",
        "print(num_chars)"
      ]
    },
    {
      "cell_type": "markdown",
      "metadata": {
        "id": "jawpJhZhnKsJ"
      },
      "source": [
        "## Task 6: Creating the Model"
      ]
    },
    {
      "cell_type": "code",
      "execution_count": null,
      "metadata": {
        "id": "cNdqAClunKsK"
      },
      "outputs": [],
      "source": [
        "from tensorflow.keras.models import Sequential\n",
        "from tensorflow.keras.layers import Embedding, Conv1D,MaxPool1D, LSTM, Bidirectional,Dense\n",
        "\n"
      ]
    },
    {
      "cell_type": "code",
      "source": [
        "from tensorflow.keras.models import Sequential\n",
        "from tensorflow.keras.layers import Embedding, Conv1D,MaxPool1D, LSTM, Bidirectional,Dense\n",
        "\n",
        "model= Sequential([\n",
        "    Embedding(num_chars, 8, input_length= max_len-1),\n",
        "                   Conv1D(64, 5, strides=1, activation='tanh', padding='causal'),\n",
        "                   MaxPool1D(2),\n",
        "                   LSTM(32),\n",
        "                   Dense(num_chars, activation='softmax')\n",
        "                   ])\n",
        "model.compile(\n",
        "             loss='sparse_categorical_crossentropy',\n",
        "              optimizer='adam',\n",
        "              metrics=['accuracy']\n",
        ")\n",
        "model.summary()"
      ],
      "metadata": {
        "colab": {
          "base_uri": "https://localhost:8080/"
        },
        "id": "uT1udaug2Z3O",
        "outputId": "4357f40f-1077-4d0e-e5cb-2d5d9ba4c1df"
      },
      "execution_count": null,
      "outputs": [
        {
          "output_type": "stream",
          "name": "stdout",
          "text": [
            "Model: \"sequential_6\"\n",
            "_________________________________________________________________\n",
            " Layer (type)                Output Shape              Param #   \n",
            "=================================================================\n",
            " embedding_6 (Embedding)     (None, 32, 8)             232       \n",
            "                                                                 \n",
            " conv1d_6 (Conv1D)           (None, 32, 64)            2624      \n",
            "                                                                 \n",
            " max_pooling1d_6 (MaxPooling  (None, 16, 64)           0         \n",
            " 1D)                                                             \n",
            "                                                                 \n",
            " lstm_6 (LSTM)               (None, 32)                12416     \n",
            "                                                                 \n",
            " dense_6 (Dense)             (None, 29)                957       \n",
            "                                                                 \n",
            "=================================================================\n",
            "Total params: 16,229\n",
            "Trainable params: 16,229\n",
            "Non-trainable params: 0\n",
            "_________________________________________________________________\n"
          ]
        }
      ]
    },
    {
      "cell_type": "markdown",
      "metadata": {
        "id": "9y8bjwopnKsK"
      },
      "source": [
        "## Task 7: Training the Model"
      ]
    },
    {
      "cell_type": "code",
      "execution_count": null,
      "metadata": {
        "id": "j0Ssl4qupt22",
        "colab": {
          "base_uri": "https://localhost:8080/"
        },
        "outputId": "9f7245aa-9b49-48a3-ca87-f188a3eac15b"
      },
      "outputs": [
        {
          "output_type": "stream",
          "name": "stdout",
          "text": [
            "Epoch 1/50\n",
            "2070/2070 - 28s - loss: 2.7358 - accuracy: 0.1918 - val_loss: 2.5499 - val_accuracy: 0.2358 - 28s/epoch - 13ms/step\n",
            "Epoch 2/50\n",
            "2070/2070 - 12s - loss: 2.5151 - accuracy: 0.2437 - val_loss: 2.4748 - val_accuracy: 0.2526 - 12s/epoch - 6ms/step\n",
            "Epoch 3/50\n",
            "2070/2070 - 12s - loss: 2.4527 - accuracy: 0.2572 - val_loss: 2.4322 - val_accuracy: 0.2624 - 12s/epoch - 6ms/step\n",
            "Epoch 4/50\n",
            "2070/2070 - 14s - loss: 2.4102 - accuracy: 0.2706 - val_loss: 2.4015 - val_accuracy: 0.2751 - 14s/epoch - 7ms/step\n",
            "Epoch 5/50\n",
            "2070/2070 - 13s - loss: 2.3750 - accuracy: 0.2804 - val_loss: 2.3776 - val_accuracy: 0.2775 - 13s/epoch - 6ms/step\n",
            "Epoch 6/50\n",
            "2070/2070 - 13s - loss: 2.3436 - accuracy: 0.2931 - val_loss: 2.3547 - val_accuracy: 0.2884 - 13s/epoch - 6ms/step\n",
            "Epoch 7/50\n",
            "2070/2070 - 13s - loss: 2.3150 - accuracy: 0.3014 - val_loss: 2.3351 - val_accuracy: 0.2986 - 13s/epoch - 6ms/step\n",
            "Epoch 8/50\n",
            "2070/2070 - 14s - loss: 2.2889 - accuracy: 0.3087 - val_loss: 2.3177 - val_accuracy: 0.3062 - 14s/epoch - 7ms/step\n",
            "Epoch 9/50\n",
            "2070/2070 - 12s - loss: 2.2663 - accuracy: 0.3154 - val_loss: 2.3050 - val_accuracy: 0.3068 - 12s/epoch - 6ms/step\n",
            "Epoch 10/50\n",
            "2070/2070 - 12s - loss: 2.2456 - accuracy: 0.3221 - val_loss: 2.2990 - val_accuracy: 0.3105 - 12s/epoch - 6ms/step\n",
            "Epoch 11/50\n",
            "2070/2070 - 13s - loss: 2.2254 - accuracy: 0.3277 - val_loss: 2.2823 - val_accuracy: 0.3159 - 13s/epoch - 6ms/step\n",
            "Epoch 12/50\n",
            "2070/2070 - 14s - loss: 2.2079 - accuracy: 0.3334 - val_loss: 2.2716 - val_accuracy: 0.3183 - 14s/epoch - 7ms/step\n",
            "Epoch 13/50\n",
            "2070/2070 - 13s - loss: 2.1917 - accuracy: 0.3410 - val_loss: 2.2654 - val_accuracy: 0.3226 - 13s/epoch - 6ms/step\n",
            "Epoch 14/50\n",
            "2070/2070 - 12s - loss: 2.1767 - accuracy: 0.3431 - val_loss: 2.2564 - val_accuracy: 0.3262 - 12s/epoch - 6ms/step\n",
            "Epoch 15/50\n",
            "2070/2070 - 13s - loss: 2.1622 - accuracy: 0.3489 - val_loss: 2.2491 - val_accuracy: 0.3316 - 13s/epoch - 6ms/step\n",
            "Epoch 16/50\n",
            "2070/2070 - 13s - loss: 2.1478 - accuracy: 0.3536 - val_loss: 2.2425 - val_accuracy: 0.3332 - 13s/epoch - 6ms/step\n",
            "Epoch 17/50\n",
            "2070/2070 - 12s - loss: 2.1343 - accuracy: 0.3591 - val_loss: 2.2355 - val_accuracy: 0.3358 - 12s/epoch - 6ms/step\n",
            "Epoch 18/50\n",
            "2070/2070 - 12s - loss: 2.1221 - accuracy: 0.3620 - val_loss: 2.2339 - val_accuracy: 0.3363 - 12s/epoch - 6ms/step\n",
            "Epoch 19/50\n",
            "2070/2070 - 13s - loss: 2.1112 - accuracy: 0.3663 - val_loss: 2.2248 - val_accuracy: 0.3404 - 13s/epoch - 6ms/step\n",
            "Epoch 20/50\n",
            "2070/2070 - 12s - loss: 2.0995 - accuracy: 0.3691 - val_loss: 2.2281 - val_accuracy: 0.3393 - 12s/epoch - 6ms/step\n",
            "Epoch 21/50\n",
            "2070/2070 - 12s - loss: 2.0887 - accuracy: 0.3727 - val_loss: 2.2192 - val_accuracy: 0.3439 - 12s/epoch - 6ms/step\n",
            "Epoch 22/50\n",
            "2070/2070 - 12s - loss: 2.0787 - accuracy: 0.3760 - val_loss: 2.2196 - val_accuracy: 0.3426 - 12s/epoch - 6ms/step\n",
            "Epoch 23/50\n",
            "2070/2070 - 14s - loss: 2.0694 - accuracy: 0.3778 - val_loss: 2.2150 - val_accuracy: 0.3429 - 14s/epoch - 7ms/step\n",
            "Epoch 24/50\n",
            "2070/2070 - 13s - loss: 2.0616 - accuracy: 0.3796 - val_loss: 2.2189 - val_accuracy: 0.3463 - 13s/epoch - 6ms/step\n",
            "Epoch 25/50\n",
            "2070/2070 - 12s - loss: 2.0529 - accuracy: 0.3825 - val_loss: 2.2114 - val_accuracy: 0.3494 - 12s/epoch - 6ms/step\n",
            "Epoch 26/50\n",
            "2070/2070 - 13s - loss: 2.0448 - accuracy: 0.3850 - val_loss: 2.2095 - val_accuracy: 0.3483 - 13s/epoch - 6ms/step\n",
            "Epoch 27/50\n",
            "2070/2070 - 13s - loss: 2.0375 - accuracy: 0.3875 - val_loss: 2.2056 - val_accuracy: 0.3504 - 13s/epoch - 6ms/step\n",
            "Epoch 28/50\n",
            "2070/2070 - 13s - loss: 2.0296 - accuracy: 0.3894 - val_loss: 2.2052 - val_accuracy: 0.3512 - 13s/epoch - 6ms/step\n",
            "Epoch 29/50\n",
            "2070/2070 - 13s - loss: 2.0242 - accuracy: 0.3929 - val_loss: 2.2034 - val_accuracy: 0.3496 - 13s/epoch - 6ms/step\n",
            "Epoch 30/50\n",
            "2070/2070 - 14s - loss: 2.0163 - accuracy: 0.3945 - val_loss: 2.2010 - val_accuracy: 0.3536 - 14s/epoch - 7ms/step\n",
            "Epoch 31/50\n",
            "2070/2070 - 13s - loss: 2.0103 - accuracy: 0.3939 - val_loss: 2.2020 - val_accuracy: 0.3538 - 13s/epoch - 6ms/step\n",
            "Epoch 32/50\n",
            "2070/2070 - 12s - loss: 2.0044 - accuracy: 0.3975 - val_loss: 2.2005 - val_accuracy: 0.3536 - 12s/epoch - 6ms/step\n",
            "Epoch 33/50\n",
            "2070/2070 - 12s - loss: 1.9989 - accuracy: 0.4009 - val_loss: 2.2024 - val_accuracy: 0.3541 - 12s/epoch - 6ms/step\n",
            "Epoch 34/50\n",
            "2070/2070 - 12s - loss: 1.9934 - accuracy: 0.4021 - val_loss: 2.2001 - val_accuracy: 0.3563 - 12s/epoch - 6ms/step\n",
            "Epoch 35/50\n",
            "2070/2070 - 13s - loss: 1.9878 - accuracy: 0.4026 - val_loss: 2.2006 - val_accuracy: 0.3552 - 13s/epoch - 6ms/step\n",
            "Epoch 36/50\n",
            "2070/2070 - 13s - loss: 1.9832 - accuracy: 0.4058 - val_loss: 2.1978 - val_accuracy: 0.3586 - 13s/epoch - 6ms/step\n",
            "Epoch 37/50\n",
            "2070/2070 - 12s - loss: 1.9776 - accuracy: 0.4058 - val_loss: 2.2019 - val_accuracy: 0.3580 - 12s/epoch - 6ms/step\n",
            "Epoch 38/50\n",
            "2070/2070 - 13s - loss: 1.9745 - accuracy: 0.4086 - val_loss: 2.2011 - val_accuracy: 0.3551 - 13s/epoch - 6ms/step\n",
            "Epoch 39/50\n",
            "2070/2070 - 14s - loss: 1.9690 - accuracy: 0.4100 - val_loss: 2.2021 - val_accuracy: 0.3545 - 14s/epoch - 7ms/step\n"
          ]
        }
      ],
      "source": [
        "r = model.fit( x_train, y_train, \n",
        "              validation_data=(x_test, y_test), epochs=50,\n",
        "              verbose=2, callbacks= [tf.keras.callbacks.EarlyStopping(monitor=\"val_accuracy\", patience=3)])"
      ]
    },
    {
      "cell_type": "markdown",
      "metadata": {
        "id": "e_kkttGmnKsL"
      },
      "source": [
        "## Task 8: Generate Names!"
      ]
    },
    {
      "cell_type": "code",
      "execution_count": null,
      "metadata": {
        "id": "9f50aTRcpt24"
      },
      "outputs": [],
      "source": [
        "def generate_names(seed):\n",
        "  for i in range(0,40):\n",
        "    seq = name_to_seq(seed)\n",
        "    pad= tf.keras.preprocessing.sequence.pad_sequences([seq], padding='pre', maxlen=max_len-1,\n",
        "                                                       truncating='pre')\n",
        "    pred= model.predict(pad)[0]\n",
        "    pred_char= index_to_char[tf.argmax(pred).numpy()]\n",
        "    seed += pred_char\n",
        "\n",
        "    if pred_char == '\\t':\n",
        "      break\n",
        "  print(seed)"
      ]
    },
    {
      "cell_type": "markdown",
      "source": [
        ""
      ],
      "metadata": {
        "id": "wkoBP2dr_dIx"
      }
    },
    {
      "cell_type": "code",
      "execution_count": null,
      "metadata": {
        "id": "faQ0FInlpt26",
        "colab": {
          "base_uri": "https://localhost:8080/"
        },
        "outputId": "49e56540-1152-4423-d42c-406b556bbd23"
      },
      "outputs": [
        {
          "output_type": "stream",
          "name": "stdout",
          "text": [
            "montor doom\t\n"
          ]
        }
      ],
      "source": [
        "generate_names('mon')"
      ]
    }
  ],
  "metadata": {
    "accelerator": "GPU",
    "colab": {
      "collapsed_sections": [],
      "name": "Superhero Name Generator.ipynb",
      "provenance": [],
      "include_colab_link": true
    },
    "kernelspec": {
      "display_name": "Python 3",
      "language": "python",
      "name": "python3"
    },
    "language_info": {
      "codemirror_mode": {
        "name": "ipython",
        "version": 3
      },
      "file_extension": ".py",
      "mimetype": "text/x-python",
      "name": "python",
      "nbconvert_exporter": "python",
      "pygments_lexer": "ipython3",
      "version": "3.8.3"
    },
    "gpuClass": "standard"
  },
  "nbformat": 4,
  "nbformat_minor": 0
}